{
  "nbformat": 4,
  "nbformat_minor": 0,
  "metadata": {
    "colab": {
      "provenance": []
    },
    "kernelspec": {
      "name": "python3",
      "display_name": "Python 3"
    },
    "language_info": {
      "name": "python"
    }
  },
  "cells": [
    {
      "cell_type": "markdown",
      "source": [
        "# Spam Detection Baseline\n",
        "\n",
        "## Project Overview\n",
        "This notebook contains baseline models for spam detection using SMS data."
      ],
      "metadata": {
        "id": "LaKiX_88kIDS"
      }
    },
    {
      "cell_type": "code",
      "execution_count": null,
      "metadata": {
        "colab": {
          "base_uri": "https://localhost:8080/"
        },
        "id": "EnseJJ0ddYKE",
        "outputId": "34d5f988-066f-4c28-aed1-ecb3236ba25b"
      },
      "outputs": [
        {
          "output_type": "stream",
          "name": "stdout",
          "text": [
            "Drive already mounted at /content/drive; to attempt to forcibly remount, call drive.mount(\"/content/drive\", force_remount=True).\n"
          ]
        }
      ],
      "source": [
        "from google.colab import drive\n",
        "drive.mount('/content/drive')"
      ]
    },
    {
      "cell_type": "code",
      "source": [
        "# Required libraries\n",
        "import pandas as pd\n",
        "import numpy as np\n",
        "import matplotlib.pyplot as plt\n",
        "import seaborn as sns\n",
        "from collections import Counter\n",
        "from wordcloud import WordCloud\n",
        "\n",
        "# Text processing\n",
        "from sklearn.feature_extraction.text import CountVectorizer, TfidfVectorizer\n",
        "import re\n",
        "import nltk\n",
        "from nltk.corpus import stopwords\n",
        "\n",
        "# Modeling\n",
        "from sklearn.model_selection import train_test_split\n",
        "from sklearn.linear_model import LogisticRegression\n",
        "from sklearn.ensemble import RandomForestClassifier\n",
        "from sklearn.metrics import classification_report, confusion_matrix\n",
        "from sklearn.metrics import accuracy_score, f1_score"
      ],
      "metadata": {
        "id": "K3NcS7z_fvPt"
      },
      "execution_count": null,
      "outputs": []
    },
    {
      "cell_type": "code",
      "source": [
        "# 1. Load data\n",
        "df = pd.read_csv('/content/drive/My Drive/Portfolio/spam.csv', encoding='latin-1')\n",
        "df = df.rename(columns={'v1': 'class', 'v2': 'sms'})\n",
        "df = df[['class', 'sms']]"
      ],
      "metadata": {
        "id": "7JdVqVdyebK-"
      },
      "execution_count": null,
      "outputs": []
    },
    {
      "cell_type": "code",
      "source": [
        "# 2. Basic EDA\n",
        "## 2.1 Check basic information\n",
        "print(\"Dataset Shape:\", df.shape)\n",
        "print(\"\\nClass Distribution:\")\n",
        "print(df['class'].value_counts(normalize=True))\n",
        "\n",
        "# Display basic dataset information\n",
        "print(\"1. Dataset Information:\")\n",
        "print(df.info())\n",
        "\n",
        "# Display sample data\n",
        "print(\"\\n3. First few messages:\")\n",
        "print(df.head())\n",
        "\n",
        "# Check for missing values\n",
        "print(\"\\n4. Missing Values:\")\n",
        "print(df.isnull().sum())"
      ],
      "metadata": {
        "colab": {
          "base_uri": "https://localhost:8080/"
        },
        "id": "KWN8vg84m6UX",
        "outputId": "b9148e8a-2cd3-4c22-a310-2e7800e451f2"
      },
      "execution_count": null,
      "outputs": [
        {
          "output_type": "stream",
          "name": "stdout",
          "text": [
            "Dataset Shape: (5572, 2)\n",
            "\n",
            "Class Distribution:\n",
            "class\n",
            "ham     0.865937\n",
            "spam    0.134063\n",
            "Name: proportion, dtype: float64\n"
          ]
        }
      ]
    },
    {
      "cell_type": "code",
      "source": [
        "## 2.2 Analyze text length\n",
        "df['length'] = df['sms'].str.len()\n",
        "plt.figure(figsize=(10, 6))\n",
        "sns.boxplot(x='class', y='length', data=df)\n",
        "plt.title('Message Length by Class')\n",
        "plt.show()"
      ],
      "metadata": {
        "colab": {
          "base_uri": "https://localhost:8080/",
          "height": 564
        },
        "id": "ydy4O8E1nMDx",
        "outputId": "960fdb71-4444-4235-d2e0-2c27e2a7d177"
      },
      "execution_count": null,
      "outputs": [
        {
          "output_type": "display_data",
          "data": {
            "text/plain": [
              "<Figure size 1000x600 with 1 Axes>"
            ],
            "image/png": "[encoded data removed]"
          },
          "metadata": {}
        }
      ]
    },
    {
      "cell_type": "code",
      "source": [
        "## 2.3 Check most common words\n",
        "def get_top_words(text_series, n=20):\n",
        "   words = ' '.join(text_series).lower().split()\n",
        "   return pd.Series(Counter(words).most_common(n))\n",
        "\n",
        "# Most common words for each class\n",
        "print(\"\\nMost common words in Spam messages:\")\n",
        "print(get_top_words(df[df['class']=='spam']['sms']))\n",
        "print(\"\\nMost common words in Ham messages:\")\n",
        "print(get_top_words(df[df['class']=='ham']['sms']))"
      ],
      "metadata": {
        "colab": {
          "base_uri": "https://localhost:8080/"
        },
        "id": "_0t2qxEinRQT",
        "outputId": "86f44b9b-08fc-4a78-9bf6-46f1689f68d5"
      },
      "execution_count": null,
      "outputs": [
        {
          "output_type": "stream",
          "name": "stdout",
          "text": [
            "\n",
            "Most common words in Spam messages:\n",
            "0         (to, 682)\n",
            "1          (a, 373)\n",
            "2       (call, 342)\n",
            "3       (your, 263)\n",
            "4        (you, 252)\n",
            "5        (the, 204)\n",
            "6        (for, 201)\n",
            "7         (or, 188)\n",
            "8       (free, 180)\n",
            "9          (2, 169)\n",
            "10        (is, 152)\n",
            "11        (ur, 144)\n",
            "12        (on, 141)\n",
            "13       (txt, 136)\n",
            "14      (have, 135)\n",
            "15      (from, 127)\n",
            "16       (and, 122)\n",
            "17         (u, 117)\n",
            "18      (text, 112)\n",
            "19    (mobile, 109)\n",
            "dtype: object\n",
            "\n",
            "Most common words in Ham messages:\n",
            "0       (i, 2172)\n",
            "1     (you, 1665)\n",
            "2      (to, 1544)\n",
            "3     (the, 1113)\n",
            "4       (a, 1046)\n",
            "5        (u, 874)\n",
            "6      (and, 845)\n",
            "7       (in, 786)\n",
            "8       (my, 741)\n",
            "9       (is, 710)\n",
            "10      (me, 584)\n",
            "11      (of, 518)\n",
            "12     (for, 496)\n",
            "13    (that, 442)\n",
            "14      (it, 440)\n",
            "15    (have, 433)\n",
            "16    (your, 413)\n",
            "17     (but, 413)\n",
            "18     (are, 405)\n",
            "19      (so, 399)\n",
            "dtype: object\n"
          ]
        }
      ]
    },
    {
      "cell_type": "code",
      "source": [
        "# 3. Simple preprocessing function\n",
        "def preprocess_text(text):\n",
        "   text = text.lower()\n",
        "   text = re.sub(r'[^a-zA-Z\\s]', '', text)\n",
        "   text = re.sub(r'\\s+', ' ', text).strip()\n",
        "   return text\n",
        "\n",
        "df['processed_text'] = df['sms'].apply(preprocess_text)"
      ],
      "metadata": {
        "id": "CoSzkiminTH3"
      },
      "execution_count": null,
      "outputs": []
    },
    {
      "cell_type": "code",
      "source": [
        "# 4. Modeling\n",
        "# Split data\n",
        "X_train, X_test, y_train, y_test = train_test_split(\n",
        "   df['processed_text'],\n",
        "   df['class'],\n",
        "   test_size=0.2,\n",
        "   random_state=42\n",
        ")"
      ],
      "metadata": {
        "id": "BnFwQva7np4c"
      },
      "execution_count": null,
      "outputs": []
    },
    {
      "cell_type": "code",
      "source": [
        "# 4.1 Baseline 1: CountVectorizer + Logistic Regression\n",
        "vectorizer = CountVectorizer()\n",
        "X_train_vec = vectorizer.fit_transform(X_train)\n",
        "X_test_vec = vectorizer.transform(X_test)\n",
        "\n",
        "lr_model = LogisticRegression(random_state=42)\n",
        "lr_model.fit(X_train_vec, y_train)\n",
        "\n",
        "# Evaluate performance\n",
        "lr_pred = lr_model.predict(X_test_vec)\n",
        "print(\"\\nLogistic Regression Results:\")\n",
        "print(classification_report(y_test, lr_pred))"
      ],
      "metadata": {
        "colab": {
          "base_uri": "https://localhost:8080/"
        },
        "id": "On-beWHQnr3O",
        "outputId": "09139052-16b6-4888-9e9c-590dcd3c9779"
      },
      "execution_count": null,
      "outputs": [
        {
          "output_type": "stream",
          "name": "stdout",
          "text": [
            "\n",
            "Logistic Regression Results:\n",
            "              precision    recall  f1-score   support\n",
            "\n",
            "         ham       0.98      1.00      0.99       965\n",
            "        spam       0.99      0.85      0.91       150\n",
            "\n",
            "    accuracy                           0.98      1115\n",
            "   macro avg       0.98      0.92      0.95      1115\n",
            "weighted avg       0.98      0.98      0.98      1115\n",
            "\n"
          ]
        }
      ]
    },
    {
      "cell_type": "code",
      "source": [
        "# alternative way to check the model performance\n",
        "print(\"\\nKey Metrics Summary:\")\n",
        "print(f\"Overall Accuracy: {accuracy_score(y_test, lr_pred):.3f}\")\n",
        "print(\"\\nPer-Class Metrics:\")\n",
        "print(f\"Ham - F1 Score: {f1_score(y_test, lr_pred, pos_label='ham'):.3f}\")\n",
        "print(f\"Spam - F1 Score: {f1_score(y_test, lr_pred, pos_label='spam'):.3f}\")"
      ],
      "metadata": {
        "colab": {
          "base_uri": "https://localhost:8080/"
        },
        "id": "Xo_RgKh_qOAu",
        "outputId": "3a63a47a-52b4-47a0-b1c9-f0fd6d3ecdbc"
      },
      "execution_count": null,
      "outputs": [
        {
          "output_type": "stream",
          "name": "stdout",
          "text": [
            "\n",
            "Key Metrics Summary:\n",
            "Overall Accuracy: 0.978\n",
            "\n",
            "Per-Class Metrics:\n",
            "Ham - F1 Score: 0.988\n",
            "Spam - F1 Score: 0.914\n"
          ]
        }
      ]
    },
    {
      "cell_type": "code",
      "source": [
        "# 4.2 Baseline 2: TF-IDF + Random Forest\n",
        "tfidf = TfidfVectorizer()\n",
        "X_train_tfidf = tfidf.fit_transform(X_train)\n",
        "X_test_tfidf = tfidf.transform(X_test)\n",
        "\n",
        "rf_model = RandomForestClassifier(n_estimators=100, random_state=42)\n",
        "rf_model.fit(X_train_tfidf, y_train)\n",
        "\n",
        "# Evaluate performance\n",
        "rf_pred = rf_model.predict(X_test_tfidf)\n",
        "print(\"\\nRandom Forest Results:\")\n",
        "print(classification_report(y_test, rf_pred))"
      ],
      "metadata": {
        "colab": {
          "base_uri": "https://localhost:8080/"
        },
        "id": "mmakkWu-ntzW",
        "outputId": "0f1ce5f0-446f-4a99-d9c3-40155cf1ebef"
      },
      "execution_count": null,
      "outputs": [
        {
          "output_type": "stream",
          "name": "stdout",
          "text": [
            "\n",
            "Random Forest Results:\n",
            "              precision    recall  f1-score   support\n",
            "\n",
            "         ham       0.97      1.00      0.98       965\n",
            "        spam       1.00      0.79      0.88       150\n",
            "\n",
            "    accuracy                           0.97      1115\n",
            "   macro avg       0.98      0.90      0.93      1115\n",
            "weighted avg       0.97      0.97      0.97      1115\n",
            "\n"
          ]
        }
      ]
    }
  ]
}
